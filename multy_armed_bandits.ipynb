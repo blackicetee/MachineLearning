{
 "cells": [
  {
   "cell_type": "code",
   "execution_count": 26,
   "metadata": {},
   "outputs": [
    {
     "data": {
      "text/plain": [
       "0.054193119217836427"
      ]
     },
     "execution_count": 26,
     "metadata": {},
     "output_type": "execute_result"
    }
   ],
   "source": [
    "import numpy as np \n",
    "\n",
    "action_values = np.zeros(10)\n",
    "\n",
    "def select_greedy_action(action_values):\n",
    "    return np.argmax(action_values)\n",
    "\n",
    "def select_e_greedy_action(e, action_values):\n",
    "    random_number = np.random.random(1)[0]\n",
    "    if random_number > e:\n",
    "        return np.argmax(action_values)\n",
    "    else:\n",
    "        return np.random.randint(0,10)\n",
    "\n",
    "def create_normal_10_armed_bandit():\n",
    "    mu, sigma = 0, 1 # mean and standard deviation\n",
    "    return np.random.normal(mu, sigma, 10)\n",
    "\n",
    "def get_bandit_function(bandits_means, bandits_sigma=1):\n",
    "    noise_rewards = np.random.normal(bandits_means, bandits_sigma, 10)\n",
    "    def bandit_fct(action):\n",
    "        return noise_rewards[action]\n",
    "    return bandit_fct\n",
    "\n",
    "#bandit_fct = get_bandit_function(create_normal_10_armed_bandit(), 1)\n",
    "#bandit_fct(4)"
   ]
  },
  {
   "cell_type": "code",
   "execution_count": 91,
   "metadata": {},
   "outputs": [
    {
     "name": "stdout",
     "output_type": "stream",
     "text": [
      "2\n"
     ]
    }
   ],
   "source": [
    "test_action_values = np.array([0,1,2,3,4,5,6,7,8,9])\n",
    "\n",
    "#Test of function e_greedy\n",
    "count = 0\n",
    "for i in range(100):\n",
    "    a = select_e_greedy_action(0.01, test_action_values)\n",
    "    if a != np.argmax(test_action_values):\n",
    "        count += 1\n",
    "\n",
    "print(count)"
   ]
  },
  {
   "cell_type": "code",
   "execution_count": 108,
   "metadata": {},
   "outputs": [
    {
     "name": "stdout",
     "output_type": "stream",
     "text": [
      "<class 'numpy.ndarray'>\n",
      "True\n",
      "True\n"
     ]
    },
    {
     "data": {
      "image/png": "[encoded data removed]",
      "text/plain": [
       "<matplotlib.figure.Figure at 0x9423278>"
      ]
     },
     "metadata": {},
     "output_type": "display_data"
    }
   ],
   "source": [
    "mu, sigma = 0, 1 # mean and standard deviation\n",
    "s = np.random.normal(mu, sigma, 1000)\n",
    "\n",
    "print(type(s))\n",
    "\n",
    "#Verify the mean and the variance:\n",
    "print(abs(mu - np.mean(s)) < 0.01)\n",
    "print(abs(sigma - np.std(s, ddof=1)) < 0.01)\n",
    "\n",
    "import matplotlib.pyplot as plt\n",
    "count, bins, ignored = plt.hist(s, 30, normed=True)\n",
    "plt.plot(bins, 1/(sigma * np.sqrt(2 * np.pi)) * \n",
    "         np.exp( - (bins - mu)**2 / (2 * sigma**2) ), \n",
    "         linewidth=2, color='r')\n",
    "plt.show()"
   ]
  },
  {
   "cell_type": "code",
   "execution_count": 30,
   "metadata": {},
   "outputs": [
    {
     "name": "stdout",
     "output_type": "stream",
     "text": [
      "3.5\n"
     ]
    }
   ],
   "source": [
    "def calc_estimate(action_rewards):\n",
    "    return np.sum(action_rewards) / len(action_rewards)\n",
    "\n",
    "def incremental_estimate(old_estimate, step_size, target):\n",
    "    return old_estimate + (step_size * (target - old_estimate))\n",
    "\n",
    "def select_e_greedy_action(epsilon, action_values):\n",
    "    random_number = np.random.random(1)[0]\n",
    "    if random_number > epsilon:\n",
    "        return np.argmax(action_values)\n",
    "    else:\n",
    "        return np.random.randint(0,10)\n",
    "\n",
    "def get_average_rewards(epsilon=0.1, optimistic=0., nb_runs=2000, nb_steps=1000):\n",
    "    \"\"\"\n",
    "    Compute the average reward for different 10-armed bandit problems.\n",
    "    \n",
    "    Parameters\n",
    "    ----------\n",
    "    epsilon : float\n",
    "        epsilon: probability of chosing a random action (exploration).\n",
    "    optimistic: float\n",
    "        Initial value value of all action-values.\n",
    "    nb_runs: int\n",
    "        Number of runs with different 10-armed bandits for the averaging.\n",
    "    nb_steps: int\n",
    "        Number of steps. How often each bandit is played.\n",
    "    \n",
    "    Returns\n",
    "    -------\n",
    "    numpy array (dtype: double)\n",
    "        averaged rewards. i-th element in the array contains the average reward at iteration step i.\n",
    "    numpy array (dtype: double)\n",
    "        averaged percentage of using the optimal action. i-th element in the array contains the average reward at iteration step i.    \n",
    "    \"\"\"\n",
    "    bandit_fct = get_bandit_function(create_normal_10_armed_bandit(), 1)\n",
    "    action_values = np.zeros(10)\n",
    "    selected_action = select_e_greedy_action(epsilon, action_values)\n",
    "    reward = bandit_fct(selected_action)\n",
    "    incremental_estimate(action_values[selected_action], )\n",
    "    "
   ]
  },
  {
   "cell_type": "code",
   "execution_count": 31,
   "metadata": {},
   "outputs": [
    {
     "data": {
      "text/plain": [
       "array([ 0.,  0.,  0.,  0.,  0.,  0.,  0.,  0.,  0.,  0.])"
      ]
     },
     "execution_count": 31,
     "metadata": {},
     "output_type": "execute_result"
    }
   ],
   "source": []
  },
  {
   "cell_type": "code",
   "execution_count": null,
   "metadata": {
    "collapsed": true
   },
   "outputs": [],
   "source": []
  }
 ],
 "metadata": {
  "kernelspec": {
   "display_name": "Python 3",
   "language": "python",
   "name": "python3"
  },
  "language_info": {
   "codemirror_mode": {
    "name": "ipython",
    "version": 3
   },
   "file_extension": ".py",
   "mimetype": "text/x-python",
   "name": "python",
   "nbconvert_exporter": "python",
   "pygments_lexer": "ipython3",
   "version": "3.5.2"
  }
 },
 "nbformat": 4,
 "nbformat_minor": 2
}
