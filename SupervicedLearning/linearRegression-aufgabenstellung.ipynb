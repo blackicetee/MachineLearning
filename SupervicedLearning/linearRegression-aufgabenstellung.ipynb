{
 "cells": [
  {
   "cell_type": "markdown",
   "metadata": {
    "slideshow": {
     "slide_type": "slide"
    }
   },
   "source": [
    "### Linear Regression with Tensorflow"
   ]
  },
  {
   "cell_type": "markdown",
   "metadata": {
    "slideshow": {
     "slide_type": "slide"
    }
   },
   "source": [
    "#### Erzeugen von Trainingsdaten"
   ]
  },
  {
   "cell_type": "markdown",
   "metadata": {
    "slideshow": {
     "slide_type": "slide"
    }
   },
   "source": [
    "### Aufgaben\n",
    "\n",
    "- Implementieren Sie in lineares Modell mit Tensorflow\n",
    " - Die Daten sollen durch den Feed-Mechanismus in den Graphen kommen. \n",
    "- Implementiern Sie eine Kostenfunktion (Quadrierte Abweichungen)\n",
    "- Implementieren Sie das Gradientenabstiegsverfahren zur Minimierung der Kostenfunktion:\n",
    "  - Verwenden Sie zur Berechnung des Gradienten `tf.gradients`. __Keine__ Verwendung von eingebauten Opmierungsalgorithmen, wie `tf.train.GradientDescentOptimizer`.\n",
    "  - Optimieren Sie die Parameter aus Startwerten\n",
    "  - Zeichnen Sie die gefundene Fit-Gerade zusammen mit den Daten\n",
    " "
   ]
  },
  {
   "cell_type": "code",
   "execution_count": 1,
   "metadata": {
    "collapsed": true,
    "slideshow": {
     "slide_type": "notes"
    }
   },
   "outputs": [],
   "source": [
    "import numpy as np\n",
    "%matplotlib inline\n",
    "import matplotlib.pyplot as plt"
   ]
  },
  {
   "cell_type": "code",
   "execution_count": 20,
   "metadata": {
    "collapsed": true,
    "slideshow": {
     "slide_type": "notes"
    }
   },
   "outputs": [],
   "source": [
    "\n",
    "x_min = -10.\n",
    "x_max = 10.\n",
    "m = 10\n",
    "\n",
    "training_data = np.random.uniform(x_min, x_max, m)\n",
    "a = 10.\n",
    "c = 4.\n",
    "y_noise_sigma = 8.\n",
    "labels = a + c * training_data + np.random.randn(len(training_data)) * y_noise_sigma\n"
   ]
  },
  {
   "cell_type": "code",
   "execution_count": 21,
   "metadata": {
    "slideshow": {
     "slide_type": "notes"
    }
   },
   "outputs": [
    {
     "data": {
      "text/plain": [
       "[<matplotlib.lines.Line2D at 0x7dbd710>]"
      ]
     },
     "execution_count": 21,
     "metadata": {},
     "output_type": "execute_result"
    },
    {
     "data": {
      "image/png": "[encoded data removed]",
      "text/plain": [
       "<matplotlib.figure.Figure at 0x7d6bb70>"
      ]
     },
     "metadata": {},
     "output_type": "display_data"
    }
   ],
   "source": [
    "plt.plot(training_data, labels, \"bo\")"
   ]
  },
  {
   "cell_type": "code",
   "execution_count": 23,
   "metadata": {
    "slideshow": {
     "slide_type": "-"
    }
   },
   "outputs": [
    {
     "name": "stdout",
     "output_type": "stream",
     "text": [
      "[ 2.4610727  -1.04258387 -1.13942403 -0.28337065 -1.40906336  1.23139394\n",
      " -5.49464107  7.49090919  6.37717856 -6.9813249 ]\n",
      "[ 25.66926317  10.01205539  -0.56433859  -3.06102285  11.92994151\n",
      "  17.71549385  -1.99148887  37.5284412   34.75957649 -22.5672505 ]\n",
      "[ 13.79149532]\n",
      "[ 1.94135237]\n",
      "[-1568.54760742]\n",
      "[-3.04808617]\n",
      "[ 249510.921875]\n",
      "[ 1708.28637695]\n",
      "[-39591808.]\n",
      "[-269544.5]\n",
      "[  6.28243354e+09]\n",
      "[ 42772916.]\n",
      "[ -9.96897194e+11]\n",
      "[ -6.78721843e+09]\n",
      "[  1.58187739e+14]\n",
      "[  1.07699660e+12]\n",
      "[ -2.51012492e+16]\n",
      "[ -1.70898124e+14]\n",
      "[  3.98306856e+18]\n",
      "[  2.71181100e+16]\n",
      "[ -6.32033905e+20]\n",
      "[ -4.30310918e+18]\n",
      "[  1.00291237e+23]\n",
      "[  6.82818043e+20]\n",
      "[ -1.59142229e+25]\n",
      "[ -1.08349527e+23]\n",
      "[  2.52527131e+27]\n",
      "[  1.71929027e+25]\n",
      "[ -4.00710401e+29]\n",
      "[ -2.72817664e+27]\n",
      "[  6.35847591e+31]\n",
      "[  4.32906400e+29]\n",
      "[ -1.00896353e+34]\n",
      "[ -6.86937570e+31]\n",
      "[  1.60102433e+36]\n",
      "[  1.09003270e+34]\n",
      "[ nan]\n",
      "[ nan]\n",
      "[ nan]\n",
      "[ nan]\n",
      "[ nan]\n",
      "[ nan]\n",
      "[array([ nan], dtype=float32), array([ nan], dtype=float32)]\n"
     ]
    }
   ],
   "source": [
    "import tensorflow as tf\n",
    "\n",
    "W = tf.Variable([.3], dtype=tf.float32)\n",
    "b = tf.Variable([-.3], dtype=tf.float32)\n",
    "x = tf.placeholder(tf.float32)\n",
    "linear_model = W * x + b\n",
    "\n",
    "init = tf.global_variables_initializer() # all variables need to be initialized like so\n",
    "sess = tf.Session()\n",
    "sess.run(init)\n",
    "\n",
    "#print(sess.run(linear_model, {x:[1,2,3,4]}))\n",
    "\n",
    "y = tf.placeholder(tf.float32)\n",
    "squared_deltas = tf.square(linear_model - y)\n",
    "loss = tf.reduce_sum(squared_deltas)\n",
    "\n",
    "'''\n",
    "feed_dict = {x:[1,2,3,4], y:[0,-1,-2,-3]}\n",
    "for i in range(10):\n",
    "    gradientLoss = tf.gradients(loss, [W, b])\n",
    "    alphaGradientLosses = tf.multiply(0.01, gradientLoss)\n",
    "\n",
    "    computational_graph_update_W = tf.subtract(W, alphaGradientLosses[0])\n",
    "    computational_graph_update_b = tf.subtract(b, alphaGradientLosses[1])\n",
    "\n",
    "    newW = sess.run(computational_graph_update_W, feed_dict)\n",
    "    #print(newW)\n",
    "    #print(sess.run(W))\n",
    "\n",
    "    newb = sess.run(computational_graph_update_b, feed_dict)\n",
    "    #print(newb)\n",
    "    #print(sess.run(b))\n",
    "\n",
    "    sess.run(tf.assign(W, newW))\n",
    "    sess.run(tf.assign(b, newb))\n",
    "\n",
    "    print(sess.run(W))\n",
    "    print(sess.run(b))\n",
    "    \n",
    "'''\n",
    "    \n",
    "#print(sess.run(loss, {x:[1,2,3,4], y:[0,-1,-2,-3]}))\n",
    "#help(tf.gradients)\n",
    "\n",
    "def MyGradientDescent(alpha):\n",
    "    def MyGDOptimizer(LossFunction):\n",
    "        gradientLosses = tf.gradients(LossFunction, [W, b])\n",
    "        alphaGradientLosses = tf.multiply(alpha, gradientLosses)\n",
    "\n",
    "        newW = tf.subtract(W, alphaGradientLosses[0])\n",
    "        newb = tf.subtract(b, alphaGradientLosses[1])\n",
    "        return [newW, newb]\n",
    "        #tf.assign(W, newW)\n",
    "        #tf.assign(b, newb)\n",
    "    return MyGDOptimizer\n",
    "\n",
    "optimizer = MyGradientDescent(0.01)\n",
    "training = optimizer(loss)\n",
    "\n",
    "print(training_data)\n",
    "print(labels)\n",
    "\n",
    "for i in range(100):\n",
    "    \n",
    "    newParameters = sess.run(training, {x:training_data, y:labels})\n",
    "    sess.run(tf.assign(W, newParameters[0]))\n",
    "    sess.run(tf.assign(b, newParameters[1]))\n",
    "    if i % 5 == 0:\n",
    "        print(sess.run(W))\n",
    "        print(sess.run(b))\n",
    "\n",
    "print(sess.run([W, b]))\n"
   ]
  },
  {
   "cell_type": "code",
   "execution_count": 4,
   "metadata": {},
   "outputs": [
    {
     "ename": "NameError",
     "evalue": "name 'tf' is not defined",
     "output_type": "error",
     "traceback": [
      "\u001b[1;31m---------------------------------------------------------------------------\u001b[0m",
      "\u001b[1;31mNameError\u001b[0m                                 Traceback (most recent call last)",
      "\u001b[1;32m<ipython-input-4-38d5584accfc>\u001b[0m in \u001b[0;36m<module>\u001b[1;34m()\u001b[0m\n\u001b[1;32m----> 1\u001b[1;33m \u001b[0mt\u001b[0m \u001b[1;33m=\u001b[0m \u001b[0mtf\u001b[0m\u001b[1;33m.\u001b[0m\u001b[0mVariable\u001b[0m\u001b[1;33m(\u001b[0m\u001b[1;33m[\u001b[0m\u001b[1;33m[\u001b[0m\u001b[1;36m1\u001b[0m\u001b[1;33m,\u001b[0m \u001b[1;36m1\u001b[0m\u001b[1;33m,\u001b[0m \u001b[1;36m1\u001b[0m\u001b[1;33m]\u001b[0m\u001b[1;33m,\u001b[0m \u001b[1;33m[\u001b[0m\u001b[1;36m2\u001b[0m\u001b[1;33m,\u001b[0m \u001b[1;36m2\u001b[0m\u001b[1;33m,\u001b[0m \u001b[1;36m2\u001b[0m\u001b[1;33m]\u001b[0m\u001b[1;33m]\u001b[0m\u001b[1;33m,\u001b[0m \u001b[1;33m[\u001b[0m\u001b[1;33m[\u001b[0m\u001b[1;36m3\u001b[0m\u001b[1;33m,\u001b[0m \u001b[1;36m3\u001b[0m\u001b[1;33m,\u001b[0m \u001b[1;36m3\u001b[0m\u001b[1;33m]\u001b[0m\u001b[1;33m,\u001b[0m \u001b[1;33m[\u001b[0m\u001b[1;36m4\u001b[0m\u001b[1;33m,\u001b[0m \u001b[1;36m4\u001b[0m\u001b[1;33m,\u001b[0m \u001b[1;36m4\u001b[0m\u001b[1;33m]\u001b[0m\u001b[1;33m]\u001b[0m\u001b[1;33m)\u001b[0m\u001b[1;33m\u001b[0m\u001b[0m\n\u001b[0m\u001b[0;32m      2\u001b[0m \u001b[0mprint\u001b[0m\u001b[1;33m(\u001b[0m\u001b[0msess\u001b[0m\u001b[1;33m.\u001b[0m\u001b[0mrun\u001b[0m\u001b[1;33m(\u001b[0m\u001b[0mtf\u001b[0m\u001b[1;33m.\u001b[0m\u001b[0mshape\u001b[0m\u001b[1;33m(\u001b[0m\u001b[0mt\u001b[0m\u001b[1;33m)\u001b[0m\u001b[1;33m)\u001b[0m\u001b[1;33m)\u001b[0m\u001b[1;33m\u001b[0m\u001b[0m\n\u001b[0;32m      3\u001b[0m \u001b[0mprint\u001b[0m\u001b[1;33m(\u001b[0m\u001b[0msess\u001b[0m\u001b[1;33m.\u001b[0m\u001b[0mrun\u001b[0m\u001b[1;33m(\u001b[0m\u001b[0mtf\u001b[0m\u001b[1;33m.\u001b[0m\u001b[0mrank\u001b[0m\u001b[1;33m(\u001b[0m\u001b[0mt\u001b[0m\u001b[1;33m)\u001b[0m\u001b[1;33m)\u001b[0m\u001b[1;33m)\u001b[0m\u001b[1;33m\u001b[0m\u001b[0m\n",
      "\u001b[1;31mNameError\u001b[0m: name 'tf' is not defined"
     ]
    }
   ],
   "source": [
    "t = tf.Variable([[1, 1, 1], [2, 2, 2]], [[3, 3, 3], [4, 4, 4]])\n",
    "print(sess.run(tf.shape(t)))\n",
    "print(sess.run(tf.rank(t)))"
   ]
  },
  {
   "cell_type": "code",
   "execution_count": null,
   "metadata": {
    "collapsed": true
   },
   "outputs": [],
   "source": []
  }
 ],
 "metadata": {
  "celltoolbar": "Slideshow",
  "kernelspec": {
   "display_name": "Python 3",
   "language": "python",
   "name": "python3"
  },
  "language_info": {
   "codemirror_mode": {
    "name": "ipython",
    "version": 3
   },
   "file_extension": ".py",
   "mimetype": "text/x-python",
   "name": "python",
   "nbconvert_exporter": "python",
   "pygments_lexer": "ipython3",
   "version": "3.5.2"
  }
 },
 "nbformat": 4,
 "nbformat_minor": 1
}
