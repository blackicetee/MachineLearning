{
 "cells": [
  {
   "cell_type": "code",
   "execution_count": 15,
   "metadata": {
    "collapsed": false
   },
   "outputs": [
    {
     "data": {
      "text/plain": [
       "4"
      ]
     },
     "execution_count": 15,
     "metadata": {},
     "output_type": "execute_result"
    }
   ],
   "source": [
    "w1=[1.,2.,3.,4.]\n",
    "w2=[4.,5.,6.,7.]\n",
    "w3=[3.,2.,1.,1.]\n",
    "W=[w1,w2,w3]\n",
    "type(W)\n",
    "len(W)\n",
    "len(W[0])"
   ]
  },
  {
   "cell_type": "code",
   "execution_count": 14,
   "metadata": {
    "collapsed": false
   },
   "outputs": [
    {
     "data": {
      "text/plain": [
       "4"
      ]
     },
     "execution_count": 14,
     "metadata": {},
     "output_type": "execute_result"
    }
   ],
   "source": [
    "v1=[1.,4.,4.,6.,5.]\n",
    "v2=[1.,3.,1.,6.,2.]\n",
    "v3=[6.,3.,4.,2.,1.]\n",
    "v4=[1.,2.,4.,2.,3.]\n",
    "V =[v1,v2,v3,v4]\n",
    "type(V)\n",
    "len(V)"
   ]
  },
  {
   "cell_type": "code",
   "execution_count": 49,
   "metadata": {
    "collapsed": false
   },
   "outputs": [
    {
     "name": "stdout",
     "output_type": "stream",
     "text": [
      "[4.0, 3.0, 3.0, 2.0]\n",
      "[4.0, 5.0, 6.0, 7.0]\n"
     ]
    }
   ],
   "source": [
    "def get_column(Z, col_index):\n",
    "    temp = []\n",
    "    for i in range(len(Z)):\n",
    "        temp.append(Z[i][col_index])\n",
    "    return temp\n",
    "\n",
    "print(get_column(V, 1))\n",
    "print(W[1])"
   ]
  },
  {
   "cell_type": "code",
   "execution_count": 51,
   "metadata": {
    "collapsed": false
   },
   "outputs": [
    {
     "data": {
      "text/plain": [
       "63.0"
      ]
     },
     "execution_count": 51,
     "metadata": {},
     "output_type": "execute_result"
    }
   ],
   "source": [
    "def vector_multiplication(vector_1, vector_2):\n",
    "    result = 0\n",
    "    for i in range(len(vector_1)):\n",
    "        result += vector_1[i] * vector_2[i]\n",
    "    return result\n",
    "\n",
    "vector_multiplication(get_column(V,1), W[1])"
   ]
  },
  {
   "cell_type": "code",
   "execution_count": 91,
   "metadata": {
    "collapsed": false
   },
   "outputs": [
    {
     "data": {
      "text/plain": [
       "[[25.0, 27.0, 34.0, 32.0, 24.0],\n",
       " [52.0, 63.0, 73.0, 80.0, 57.0],\n",
       " [12.0, 23.0, 22.0, 34.0, 23.0]]"
      ]
     },
     "execution_count": 91,
     "metadata": {},
     "output_type": "execute_result"
    }
   ],
   "source": [
    "def multiply(W,V):\n",
    "    col = len(V[0])\n",
    "    row = len(W)\n",
    "    temp_row = []\n",
    "    result = []\n",
    "        \n",
    "    for r in range(row):\n",
    "        for c in range(col):\n",
    "            #print('Row:' + str(r) + ' Col: ' + str(c))\n",
    "            #print(get_column(V,c))\n",
    "            #print(W[r])\n",
    "            #print(vector_multiplication(get_column(V,c), W[r]))\n",
    "            #col[r][c] = vector_multiplication(get_column(V,c), W[r])\n",
    "            temp_row.append(vector_multiplication(get_column(V,c), W[r]))\n",
    "            if c == col -1:\n",
    "                result.append(temp_row)\n",
    "                temp_row = []\n",
    "    return result\n",
    "    \n",
    "multiply(W, V)\n"
   ]
  },
  {
   "cell_type": "code",
   "execution_count": 97,
   "metadata": {
    "collapsed": false
   },
   "outputs": [
    {
     "name": "stdout",
     "output_type": "stream",
     "text": [
      "[[25.0, 27.0, 34.0, 32.0, 24.0], [52.0, 63.0, 73.0, 80.0, 57.0], [12.0, 23.0, 22.0, 34.0, 23.0]]\n",
      "[[ 25.  27.  34.  32.  24.]\n",
      " [ 52.  63.  73.  80.  57.]\n",
      " [ 12.  23.  22.  34.  23.]]\n"
     ]
    }
   ],
   "source": [
    "import numpy as np\n",
    "def test_multiply(W, V):\n",
    "    X = multiply(W,V)\n",
    "    # numpy version\n",
    "    Y = np.dot(np.array(W), np.array(V))\n",
    "    np.testing.assert_allclose(X, Y, rtol=1e-05)\n",
    "    \n",
    "test_multiply(W, V)"
   ]
  },
  {
   "cell_type": "code",
   "execution_count": null,
   "metadata": {
    "collapsed": true
   },
   "outputs": [],
   "source": []
  }
 ],
 "metadata": {
  "kernelspec": {
   "display_name": "Python 3",
   "language": "python",
   "name": "python3"
  },
  "language_info": {
   "codemirror_mode": {
    "name": "ipython",
    "version": 3
   },
   "file_extension": ".py",
   "mimetype": "text/x-python",
   "name": "python",
   "nbconvert_exporter": "python",
   "pygments_lexer": "ipython3",
   "version": "3.5.2"
  }
 },
 "nbformat": 4,
 "nbformat_minor": 2
}
