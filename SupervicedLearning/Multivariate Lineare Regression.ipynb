{
 "cells": [
  {
   "cell_type": "code",
   "execution_count": 16,
   "metadata": {
    "collapsed": false
   },
   "outputs": [
    {
     "name": "stdout",
     "output_type": "stream",
     "text": [
      "[[ 0.2169732   0.18324368]\n",
      " [-0.16768858  0.47246088]\n",
      " [-0.14769722 -1.1126416 ]\n",
      " [-0.5779051  -0.14267087]\n",
      " [ 0.05295085 -0.19873248]\n",
      " [ 0.02854942  0.46078705]\n",
      " [-0.74133611 -0.09891747]\n",
      " [-0.04711829  0.22373822]\n",
      " [ 0.45946549  1.04757559]\n",
      " [ 0.3310432  -0.03281015]\n",
      " [-0.96569708  1.10104785]\n",
      " [-0.6131141   0.24386358]\n",
      " [-0.04446365 -0.7939307 ]\n",
      " [ 0.24559052 -0.75085703]\n",
      " [ 0.0515554  -0.2799354 ]\n",
      " [ 0.10231628  0.5345075 ]\n",
      " [ 0.69665995 -0.09415547]\n",
      " [ 0.27695682 -0.47483428]\n",
      " [-0.29645418 -0.05667499]\n",
      " [ 0.08316179 -0.4876419 ]]\n"
     ]
    }
   ],
   "source": [
    "from mpl_toolkits.mplot3d import Axes3D\n",
    "from matplotlib import cm\n",
    "from matplotlib.ticker import LinearLocator, FormatStrFormatter\n",
    "import matplotlib.pyplot as plt\n",
    "import numpy as np\n",
    "# sigma * np.random.randn(dimensionen)+ mu\n",
    "#schwankt um den Sigma Wert d.h. Sigma = 10 bedeutet Standardabweichung wird 10 sein selbst mit ein paar ausreißern\n",
    "#mu gibt den Mittelwert an um den geschwankt wird d.h. mu = 5 der mittelwert ist 5 und um den wird Sigma geschwankt\n",
    "x = 0.5 * np.random.randn(20,2)\n",
    "vector_x1 = x[:,0]\n",
    "vector_x2 = x[:,1]\n",
    "print(x)"
   ]
  },
  {
   "cell_type": "code",
   "execution_count": 17,
   "metadata": {
    "collapsed": false
   },
   "outputs": [
    {
     "data": {
      "image/png": "[encoded data removed]",
      "text/plain": [
       "<matplotlib.figure.Figure at 0xf0da4d46a0>"
      ]
     },
     "metadata": {},
     "output_type": "display_data"
    }
   ],
   "source": [
    "def plotNoisyDataPoints():\n",
    "    plt.plot(x[:,0], x[:,1], '*b', label='X-Values')\n",
    "    plt.xlabel('$x_1$')\n",
    "    plt.ylabel('$x_2$')\n",
    "    plt.title('Noisy Data')\n",
    "    plt.legend()\n",
    "    plt.show()\n",
    "    \n",
    "plotNoisyDataPoints()"
   ]
  },
  {
   "cell_type": "code",
   "execution_count": 21,
   "metadata": {
    "collapsed": true
   },
   "outputs": [],
   "source": [
    "def create_hypothesis(vector_theta):\n",
    "    def hypothesis(feature_matrix):\n",
    "        count_features = feature_matrix.shape[1]\n",
    "        if count_features == len(vector_theta):\n",
    "            transpose_vector_theta = np.transpose(vector_theta) \n",
    "            return np.multiply(feature_matrix, transpose_vector_theta)\n",
    "        else:\n",
    "            print('Error length of vector theta is not suitable for feature matrix!')\n",
    "    return hypothesis"
   ]
  },
  {
   "cell_type": "code",
   "execution_count": 22,
   "metadata": {
    "collapsed": false
   },
   "outputs": [
    {
     "data": {
      "text/plain": [
       "matrix([[ 0,  1,  4],\n",
       "        [ 0,  4, 10],\n",
       "        [ 0,  7, 16]])"
      ]
     },
     "execution_count": 22,
     "metadata": {},
     "output_type": "execute_result"
    }
   ],
   "source": [
    "hypothesis = create_hypothesis(np.matrix([[0], [1], [2]]))\n",
    "hypothesis(np.matrix([[0,1,2], [3,4,5], [6,7,8]]))"
   ]
  },
  {
   "cell_type": "code",
   "execution_count": null,
   "metadata": {
    "collapsed": true
   },
   "outputs": [],
   "source": []
  }
 ],
 "metadata": {
  "kernelspec": {
   "display_name": "Python 3",
   "language": "python",
   "name": "python3"
  },
  "language_info": {
   "codemirror_mode": {
    "name": "ipython",
    "version": 3
   },
   "file_extension": ".py",
   "mimetype": "text/x-python",
   "name": "python",
   "nbconvert_exporter": "python",
   "pygments_lexer": "ipython3",
   "version": "3.5.2"
  }
 },
 "nbformat": 4,
 "nbformat_minor": 2
}
