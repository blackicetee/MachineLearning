{
 "cells": [
  {
   "cell_type": "markdown",
   "metadata": {
    "slideshow": {
     "slide_type": "slide"
    }
   },
   "source": [
    "### Linear Regression with Tensorflow"
   ]
  },
  {
   "cell_type": "markdown",
   "metadata": {
    "slideshow": {
     "slide_type": "slide"
    }
   },
   "source": [
    "#### Erzeugen von Trainingsdaten"
   ]
  },
  {
   "cell_type": "markdown",
   "metadata": {
    "slideshow": {
     "slide_type": "slide"
    }
   },
   "source": [
    "### Aufgaben\n",
    "\n",
    "- Implementieren Sie in lineares Modell mit Tensorflow\n",
    " - Die Daten sollen durch den Feed-Mechanismus in den Graphen kommen. \n",
    "- Implementiern Sie eine Kostenfunktion (Quadrierte Abweichungen)\n",
    "- Implementieren Sie das Gradientenabstiegsverfahren zur Minimierung der Kostenfunktion:\n",
    "  - Verwenden Sie zur Berechnung des Gradienten `tf.gradients`. __Keine__ Verwendung von eingebauten Opmierungsalgorithmen, wie `tf.train.GradientDescentOptimizer`.\n",
    "  - Optimieren Sie die Parameter aus Startwerten\n",
    "  - Zeichnen Sie die gefundene Fit-Gerade zusammen mit den Daten\n",
    " "
   ]
  },
  {
   "cell_type": "code",
   "execution_count": 1,
   "metadata": {
    "collapsed": true,
    "slideshow": {
     "slide_type": "notes"
    }
   },
   "outputs": [],
   "source": [
    "import numpy as np\n",
    "%matplotlib inline\n",
    "import matplotlib.pyplot as plt"
   ]
  },
  {
   "cell_type": "code",
   "execution_count": 2,
   "metadata": {
    "collapsed": true,
    "slideshow": {
     "slide_type": "notes"
    }
   },
   "outputs": [],
   "source": [
    "\n",
    "x_min = -10.\n",
    "x_max = 10.\n",
    "m = 10\n",
    "\n",
    "x = np.random.uniform(x_min, x_max, m)\n",
    "a = 10.\n",
    "c = 5.\n",
    "y_noise_sigma = 3.\n",
    "y = a + c * x + np.random.randn(len(x)) * y_noise_sigma\n"
   ]
  },
  {
   "cell_type": "code",
   "execution_count": 3,
   "metadata": {
    "slideshow": {
     "slide_type": "notes"
    }
   },
   "outputs": [
    {
     "data": {
      "text/plain": [
       "[<matplotlib.lines.Line2D at 0x7e36d30>]"
      ]
     },
     "execution_count": 3,
     "metadata": {},
     "output_type": "execute_result"
    },
    {
     "data": {
      "image/png": "[encoded data removed]",
      "text/plain": [
       "<matplotlib.figure.Figure at 0x4b42390>"
      ]
     },
     "metadata": {},
     "output_type": "display_data"
    }
   ],
   "source": [
    "plt.plot(x, y, \"bo\")"
   ]
  },
  {
   "cell_type": "code",
   "execution_count": 23,
   "metadata": {
    "slideshow": {
     "slide_type": "-"
    }
   },
   "outputs": [
    {
     "name": "stdout",
     "output_type": "stream",
     "text": [
      "[-0.21999997]\n",
      "[-0.456]\n",
      "[-0.7127021]\n",
      "[ 0.15530905]\n",
      "[-0.84270465]\n",
      "[ 0.53753263]\n",
      "[-0.913881]\n",
      "[ 0.74679965]\n",
      "[-0.95284992]\n",
      "[ 0.86137295]\n",
      "[-0.97418535]\n",
      "[ 0.92410177]\n",
      "[-0.98586655]\n",
      "[ 0.95844597]\n",
      "[-0.99226201]\n",
      "[ 0.97724938]\n",
      "[-0.99576342]\n",
      "[ 0.98754394]\n",
      "[-0.99768049]\n",
      "[ 0.99318033]\n",
      "[-0.99873012]\n",
      "[ 0.99626648]\n",
      "[-0.99930471]\n",
      "[ 0.99795592]\n",
      "[-0.99961936]\n",
      "[ 0.99888098]\n",
      "[-0.99979162]\n",
      "[ 0.99938732]\n",
      "[-0.99988592]\n",
      "[ 0.9996646]\n",
      "[-0.99993753]\n",
      "[ 0.99981636]\n",
      "[-0.99996579]\n",
      "[ 0.99989945]\n",
      "[-0.99998122]\n",
      "[ 0.99994481]\n",
      "[-0.99998969]\n",
      "[ 0.99996972]\n",
      "[-0.9999944]\n",
      "[ 0.99998343]\n",
      "[array([-0.9999969], dtype=float32), array([ 0.99999082], dtype=float32)]\n"
     ]
    }
   ],
   "source": [
    "import tensorflow as tf\n",
    "\n",
    "W = tf.Variable([.3], dtype=tf.float32)\n",
    "b = tf.Variable([-.3], dtype=tf.float32)\n",
    "x = tf.placeholder(tf.float32)\n",
    "linear_model = W * x + b\n",
    "\n",
    "init = tf.global_variables_initializer() # all variables need to be initialized like so\n",
    "sess = tf.Session()\n",
    "sess.run(init)\n",
    "\n",
    "#print(sess.run(linear_model, {x:[1,2,3,4]}))\n",
    "\n",
    "y = tf.placeholder(tf.float32)\n",
    "squared_deltas = tf.square(linear_model - y)\n",
    "loss = tf.reduce_sum(squared_deltas)\n",
    "\n",
    "'''\n",
    "feed_dict = {x:[1,2,3,4], y:[0,-1,-2,-3]}\n",
    "for i in range(10):\n",
    "    gradientLoss = tf.gradients(loss, [W, b])\n",
    "    alphaGradientLosses = tf.multiply(0.01, gradientLoss)\n",
    "\n",
    "    computational_graph_update_W = tf.subtract(W, alphaGradientLosses[0])\n",
    "    computational_graph_update_b = tf.subtract(b, alphaGradientLosses[1])\n",
    "\n",
    "    newW = sess.run(computational_graph_update_W, feed_dict)\n",
    "    #print(newW)\n",
    "    #print(sess.run(W))\n",
    "\n",
    "    newb = sess.run(computational_graph_update_b, feed_dict)\n",
    "    #print(newb)\n",
    "    #print(sess.run(b))\n",
    "\n",
    "    sess.run(tf.assign(W, newW))\n",
    "    sess.run(tf.assign(b, newb))\n",
    "\n",
    "    print(sess.run(W))\n",
    "    print(sess.run(b))\n",
    "    \n",
    "'''\n",
    "    \n",
    "#print(sess.run(loss, {x:[1,2,3,4], y:[0,-1,-2,-3]}))\n",
    "#help(tf.gradients)\n",
    "\n",
    "def MyGradientDescent(alpha):\n",
    "    def MyGDOptimizer(LossFunction):\n",
    "        gradientLosses = tf.gradients(LossFunction, [W, b])\n",
    "        alphaGradientLosses = tf.multiply(alpha, gradientLosses)\n",
    "\n",
    "        newW = tf.subtract(W, alphaGradientLosses[0])\n",
    "        newb = tf.subtract(b, alphaGradientLosses[1])\n",
    "        return [newW, newb]\n",
    "        #tf.assign(W, newW)\n",
    "        #tf.assign(b, newb)\n",
    "    return MyGDOptimizer\n",
    "\n",
    "optimizer = MyGradientDescent(0.01)\n",
    "training = optimizer(loss)\n",
    "\n",
    "for i in range(1000):\n",
    "    newParameters = sess.run(training, {x:[1,2,3,4], y:[0,-1,-2,-3]})\n",
    "    sess.run(tf.assign(W, newParameters[0]))\n",
    "    sess.run(tf.assign(b, newParameters[1]))\n",
    "    if i % 50 == 0:\n",
    "        print(sess.run(W))\n",
    "        print(sess.run(b))\n",
    "\n",
    "print(sess.run([W, b]))\n"
   ]
  },
  {
   "cell_type": "code",
   "execution_count": 4,
   "metadata": {},
   "outputs": [
    {
     "ename": "NameError",
     "evalue": "name 'tf' is not defined",
     "output_type": "error",
     "traceback": [
      "\u001b[1;31m---------------------------------------------------------------------------\u001b[0m",
      "\u001b[1;31mNameError\u001b[0m                                 Traceback (most recent call last)",
      "\u001b[1;32m<ipython-input-4-38d5584accfc>\u001b[0m in \u001b[0;36m<module>\u001b[1;34m()\u001b[0m\n\u001b[1;32m----> 1\u001b[1;33m \u001b[0mt\u001b[0m \u001b[1;33m=\u001b[0m \u001b[0mtf\u001b[0m\u001b[1;33m.\u001b[0m\u001b[0mVariable\u001b[0m\u001b[1;33m(\u001b[0m\u001b[1;33m[\u001b[0m\u001b[1;33m[\u001b[0m\u001b[1;36m1\u001b[0m\u001b[1;33m,\u001b[0m \u001b[1;36m1\u001b[0m\u001b[1;33m,\u001b[0m \u001b[1;36m1\u001b[0m\u001b[1;33m]\u001b[0m\u001b[1;33m,\u001b[0m \u001b[1;33m[\u001b[0m\u001b[1;36m2\u001b[0m\u001b[1;33m,\u001b[0m \u001b[1;36m2\u001b[0m\u001b[1;33m,\u001b[0m \u001b[1;36m2\u001b[0m\u001b[1;33m]\u001b[0m\u001b[1;33m]\u001b[0m\u001b[1;33m,\u001b[0m \u001b[1;33m[\u001b[0m\u001b[1;33m[\u001b[0m\u001b[1;36m3\u001b[0m\u001b[1;33m,\u001b[0m \u001b[1;36m3\u001b[0m\u001b[1;33m,\u001b[0m \u001b[1;36m3\u001b[0m\u001b[1;33m]\u001b[0m\u001b[1;33m,\u001b[0m \u001b[1;33m[\u001b[0m\u001b[1;36m4\u001b[0m\u001b[1;33m,\u001b[0m \u001b[1;36m4\u001b[0m\u001b[1;33m,\u001b[0m \u001b[1;36m4\u001b[0m\u001b[1;33m]\u001b[0m\u001b[1;33m]\u001b[0m\u001b[1;33m)\u001b[0m\u001b[1;33m\u001b[0m\u001b[0m\n\u001b[0m\u001b[0;32m      2\u001b[0m \u001b[0mprint\u001b[0m\u001b[1;33m(\u001b[0m\u001b[0msess\u001b[0m\u001b[1;33m.\u001b[0m\u001b[0mrun\u001b[0m\u001b[1;33m(\u001b[0m\u001b[0mtf\u001b[0m\u001b[1;33m.\u001b[0m\u001b[0mshape\u001b[0m\u001b[1;33m(\u001b[0m\u001b[0mt\u001b[0m\u001b[1;33m)\u001b[0m\u001b[1;33m)\u001b[0m\u001b[1;33m)\u001b[0m\u001b[1;33m\u001b[0m\u001b[0m\n\u001b[0;32m      3\u001b[0m \u001b[0mprint\u001b[0m\u001b[1;33m(\u001b[0m\u001b[0msess\u001b[0m\u001b[1;33m.\u001b[0m\u001b[0mrun\u001b[0m\u001b[1;33m(\u001b[0m\u001b[0mtf\u001b[0m\u001b[1;33m.\u001b[0m\u001b[0mrank\u001b[0m\u001b[1;33m(\u001b[0m\u001b[0mt\u001b[0m\u001b[1;33m)\u001b[0m\u001b[1;33m)\u001b[0m\u001b[1;33m)\u001b[0m\u001b[1;33m\u001b[0m\u001b[0m\n",
      "\u001b[1;31mNameError\u001b[0m: name 'tf' is not defined"
     ]
    }
   ],
   "source": [
    "t = tf.Variable([[1, 1, 1], [2, 2, 2]], [[3, 3, 3], [4, 4, 4]])\n",
    "print(sess.run(tf.shape(t)))\n",
    "print(sess.run(tf.rank(t)))"
   ]
  },
  {
   "cell_type": "code",
   "execution_count": null,
   "metadata": {
    "collapsed": true
   },
   "outputs": [],
   "source": []
  }
 ],
 "metadata": {
  "celltoolbar": "Slideshow",
  "kernelspec": {
   "display_name": "Python 3",
   "language": "python",
   "name": "python3"
  },
  "language_info": {
   "codemirror_mode": {
    "name": "ipython",
    "version": 3
   },
   "file_extension": ".py",
   "mimetype": "text/x-python",
   "name": "python",
   "nbconvert_exporter": "python",
   "pygments_lexer": "ipython3",
   "version": "3.5.2"
  }
 },
 "nbformat": 4,
 "nbformat_minor": 1
}
