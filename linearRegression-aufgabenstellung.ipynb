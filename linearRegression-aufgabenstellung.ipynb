{
 "cells": [
  {
   "cell_type": "markdown",
   "metadata": {
    "slideshow": {
     "slide_type": "slide"
    }
   },
   "source": [
    "### Linear Regression with Tensorflow"
   ]
  },
  {
   "cell_type": "markdown",
   "metadata": {
    "slideshow": {
     "slide_type": "slide"
    }
   },
   "source": [
    "#### Erzeugen von Trainingsdaten"
   ]
  },
  {
   "cell_type": "markdown",
   "metadata": {
    "slideshow": {
     "slide_type": "slide"
    }
   },
   "source": [
    "### Aufgaben\n",
    "\n",
    "- Implementieren Sie in lineares Modell mit Tensorflow\n",
    " - Die Daten sollen durch den Feed-Mechanismus in den Graphen kommen. \n",
    "- Implementiern Sie eine Kostenfunktion (Quadrierte Abweichungen)\n",
    "- Implementieren Sie das Gradientenabstiegsverfahren zur Minimierung der Kostenfunktion:\n",
    "  - Verwenden Sie zur Berechnung des Gradienten `tf.gradients`. __Keine__ Verwendung von eingebauten Opmierungsalgorithmen, wie `tf.train.GradientDescentOptimizer`.\n",
    "  - Optimieren Sie die Parameter aus Startwerten\n",
    "  - Zeichnen Sie die gefundene Fit-Gerade zusammen mit den Daten\n",
    " "
   ]
  },
  {
   "cell_type": "code",
   "execution_count": 62,
   "metadata": {
    "collapsed": true,
    "slideshow": {
     "slide_type": "notes"
    }
   },
   "outputs": [],
   "source": [
    "import numpy as np\n",
    "%matplotlib inline\n",
    "import matplotlib.pyplot as plt"
   ]
  },
  {
   "cell_type": "code",
   "execution_count": 63,
   "metadata": {
    "collapsed": true,
    "slideshow": {
     "slide_type": "notes"
    }
   },
   "outputs": [],
   "source": [
    "\n",
    "x_min = -10.\n",
    "x_max = 10.\n",
    "m = 10\n",
    "\n",
    "x = np.random.uniform(x_min, x_max, m)\n",
    "a = 10.\n",
    "c = 5.\n",
    "y_noise_sigma = 3.\n",
    "y = a + c * x + np.random.randn(len(x)) * y_noise_sigma\n"
   ]
  },
  {
   "cell_type": "code",
   "execution_count": 64,
   "metadata": {
    "collapsed": false,
    "slideshow": {
     "slide_type": "notes"
    }
   },
   "outputs": [
    {
     "data": {
      "text/plain": [
       "[<matplotlib.lines.Line2D at 0x11e179eb8>]"
      ]
     },
     "execution_count": 64,
     "metadata": {},
     "output_type": "execute_result"
    },
    {
     "data": {
      "image/png": "[encoded data removed]",
      "text/plain": [
       "<matplotlib.figure.Figure at 0x1129457b8>"
      ]
     },
     "metadata": {},
     "output_type": "display_data"
    }
   ],
   "source": [
    "plt.plot(x, y, \"bo\")"
   ]
  },
  {
   "cell_type": "code",
   "execution_count": 2,
   "metadata": {
    "collapsed": false
   },
   "outputs": [
    {
     "name": "stdout",
     "output_type": "stream",
     "text": [
      "Help on function gradients in module tensorflow.python.ops.gradients_impl:\n",
      "\n",
      "gradients(ys, xs, grad_ys=None, name='gradients', colocate_gradients_with_ops=False, gate_gradients=False, aggregation_method=None)\n",
      "    Constructs symbolic partial derivatives of sum of `ys` w.r.t. x in `xs`.\n",
      "    \n",
      "    `ys` and `xs` are each a `Tensor` or a list of tensors.  `grad_ys`\n",
      "    is a list of `Tensor`, holding the gradients received by the\n",
      "    `ys`. The list must be the same length as `ys`.\n",
      "    \n",
      "    `gradients()` adds ops to the graph to output the partial\n",
      "    derivatives of `ys` with respect to `xs`.  It returns a list of\n",
      "    `Tensor` of length `len(xs)` where each tensor is the `sum(dy/dx)`\n",
      "    for y in `ys`.\n",
      "    \n",
      "    `grad_ys` is a list of tensors of the same length as `ys` that holds\n",
      "    the initial gradients for each y in `ys`.  When `grad_ys` is None,\n",
      "    we fill in a tensor of '1's of the shape of y for each y in `ys`.  A\n",
      "    user can provide their own initial `grad_ys` to compute the\n",
      "    derivatives using a different initial gradient for each y (e.g., if\n",
      "    one wanted to weight the gradient differently for each value in\n",
      "    each y).\n",
      "    \n",
      "    Args:\n",
      "      ys: A `Tensor` or list of tensors to be differentiated.\n",
      "      xs: A `Tensor` or list of tensors to be used for differentiation.\n",
      "      grad_ys: Optional. A `Tensor` or list of tensors the same size as\n",
      "        `ys` and holding the gradients computed for each y in `ys`.\n",
      "      name: Optional name to use for grouping all the gradient ops together.\n",
      "        defaults to 'gradients'.\n",
      "      colocate_gradients_with_ops: If True, try colocating gradients with\n",
      "        the corresponding op.\n",
      "      gate_gradients: If True, add a tuple around the gradients returned\n",
      "        for an operations.  This avoids some race conditions.\n",
      "      aggregation_method: Specifies the method used to combine gradient terms.\n",
      "        Accepted values are constants defined in the class `AggregationMethod`.\n",
      "    \n",
      "    Returns:\n",
      "      A list of `sum(dy/dx)` for each x in `xs`.\n",
      "    \n",
      "    Raises:\n",
      "      LookupError: if one of the operations between `x` and `y` does not\n",
      "        have a registered gradient function.\n",
      "      ValueError: if the arguments are invalid.\n",
      "\n"
     ]
    }
   ],
   "source": [
    "import tensorflow as tf\n",
    "help(tf.gradients)"
   ]
  },
  {
   "cell_type": "code",
   "execution_count": null,
   "metadata": {
    "collapsed": true
   },
   "outputs": [],
   "source": []
  }
 ],
 "metadata": {
  "celltoolbar": "Slideshow",
  "kernelspec": {
   "display_name": "Python 2",
   "language": "python",
   "name": "python2"
  },
  "language_info": {
   "codemirror_mode": {
    "name": "ipython",
    "version": 2
   },
   "file_extension": ".py",
   "mimetype": "text/x-python",
   "name": "python",
   "nbconvert_exporter": "python",
   "pygments_lexer": "ipython2",
   "version": "2.7.13"
  }
 },
 "nbformat": 4,
 "nbformat_minor": 0
}
